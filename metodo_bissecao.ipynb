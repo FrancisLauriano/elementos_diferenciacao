{
 "cells": [
  {
   "cell_type": "markdown",
   "metadata": {},
   "source": [
    "# ALGORITMO  MÉTODO DA BISSEÇÃO \n",
    "\n",
    "---"
   ]
  },
  {
   "cell_type": "markdown",
   "metadata": {},
   "source": [
    "### Disciplica: ELEMENTOS DA DIFERENCIAÇÃO COMPUTACIONAL\n",
    "\n",
    "### Alunos(as):\n",
    "- Franciscleide Lauriano da Silva\n",
    "- Anderson Rodrigues Silva de Barros\n",
    "- Jeanne Espíndola Pereira\n",
    "- Allan Lucas Lages dos Santos\n",
    "\n",
    "---"
   ]
  },
  {
   "cell_type": "markdown",
   "metadata": {},
   "source": [
    "## IDEIA DO MÉTODO DA BISSEÇÃO:\n",
    "\n",
    "**1. Hipótese-chave (garantia de existência de raiz):**\n",
    "\n",
    "Se f é contínua no intervalo fechado [a,b] e f(a)*f(b) < 0, então existe\n",
    "pelo menos um ponto x* em (a,b) tal que f(x*) = 0. Essa é uma consequência\n",
    "direta do Teorema do Valor Intermediário (TVI): a função contínua não pode\n",
    "“pular” de um valor negativo para um positivo sem cruzar o zero no caminho.\n",
    "\n",
    "\n",
    "**2. Ideia central do algoritmo:**\n",
    "   \n",
    "A bisseção explora apenas o sinal de f nos extremos do intervalo:\n",
    "  - Calcula o ponto médio x = (a + b) / 2.\n",
    "  - Avalia f(x).\n",
    "  - Se f(a) e f(x) têm sinais opostos (f(a)*f(x) < 0), então a raiz está\n",
    "    no subintervalo [a, x], e podemos descartar a metade direita: b ← x.\n",
    "  - Caso contrário, a raiz está no subintervalo [x, b], e descartamos a\n",
    "    metade esquerda: a ← x.\n",
    "Fazendo isso repetidamente, o comprimento do intervalo cai pela metade a\n",
    "cada passo; logo, “apertamos” a raiz.\n",
    "\n",
    "\n",
    "**3. Critérios de parada (quando interromper):**\n",
    "\n",
    "Usaremos dois critérios simultâneos:\n",
    "  (i) |f(x)| < tol → o valor da função está “suficientemente perto de 0”.\n",
    "  (ii) (b - a)/2 < tol → o intervalo já é tão pequeno que o erro absoluto\n",
    "      no ponto médio é menor que tol. (O ponto retornado é o meio do\n",
    "      intervalo; assim, o erro é no máximo a metade do comprimento atual.)\n",
    "\n",
    "\n",
    "**4. Erro e taxa de convergência:**\n",
    "\n",
    "Se o intervalo inicial tem comprimento L0 = b0 - a0, após k iterações\n",
    "o comprimento vale Lk = L0 / 2^k.\n",
    "Como retornamos o ponto médio, o erro absoluto em relação à raiz x* obedece:\n",
    "    |x_k - x*| ≤ Lk / 2 = L0 / 2^(k+1).\n",
    "Portanto, para garantir (b - a)/2 ≤ tol, basta escolher k tal que\n",
    "    k ≥ ceil( log2( L0 / tol ) ).\n",
    "Essa é uma convergência linear: a cada passo, o erro “cai pela metade”.\n",
    "\n",
    "\n",
    "**Observações práticas:**\n",
    "\n",
    "- Se f(a) ≈ 0 ou f(b) ≈ 0 já no início (|f| < tol), podemos retornar a/b\n",
    "  imediatamente: isso evita iterações desnecessárias.\n",
    "- Se f(a)*f(b) > 0, não há garantia de raiz (pode até haver um número PAR de\n",
    "  raízes, mas seus sinais se “cancelam” nos extremos), então o método não\n",
    "  deve prosseguir.\n",
    "- Usar ‘verbose’ para imprimir as iterações ajuda a estudar a convergência.\n",
    "- ‘return_history’ armazena as tuplas (k, a, b, x, f(x)), úteis para tabelas\n",
    "  e gráficos.\n",
    "\n",
    "---  \n"
   ]
  },
  {
   "cell_type": "markdown",
   "metadata": {},
   "source": [
    "## IMPLEMENTAÇÃO DO ALGORITMO EM PYTHON:"
   ]
  },
  {
   "cell_type": "markdown",
   "metadata": {},
   "source": [
    "### Instalação dos pacotes necessários:"
   ]
  },
  {
   "cell_type": "code",
   "execution_count": 16,
   "metadata": {},
   "outputs": [
    {
     "name": "stdout",
     "output_type": "stream",
     "text": [
      "Requirement already satisfied: tqdm in c:\\python312\\lib\\site-packages (4.67.0)\n",
      "Requirement already satisfied: colorama in c:\\python312\\lib\\site-packages (from tqdm) (0.4.6)\n"
     ]
    },
    {
     "name": "stderr",
     "output_type": "stream",
     "text": [
      "\n",
      "[notice] A new release of pip is available: 25.1.1 -> 25.2\n",
      "[notice] To update, run: python.exe -m pip install --upgrade pip\n"
     ]
    }
   ],
   "source": [
    "!pip install tqdm"
   ]
  },
  {
   "cell_type": "markdown",
   "metadata": {},
   "source": [
    "### Imports necessários:"
   ]
  },
  {
   "cell_type": "code",
   "execution_count": 17,
   "metadata": {},
   "outputs": [],
   "source": [
    "from tqdm import tqdm\n",
    "from time import sleep\n",
    "from math import cos, e"
   ]
  },
  {
   "cell_type": "markdown",
   "metadata": {},
   "source": [
    "### Código Príncipal:"
   ]
  },
  {
   "cell_type": "code",
   "execution_count": 18,
   "metadata": {},
   "outputs": [
    {
     "name": "stderr",
     "output_type": "stream",
     "text": [
      "Carregando Implementação do Algoritmo em Python...: 100%|██████████| 1/1 [00:01<00:00,  1.00s/it]\n"
     ]
    }
   ],
   "source": [
    "# Simula carregamento da função\n",
    "for _ in tqdm(range(1), desc=\"Carregando Implementação do Algoritmo em Python...\"):\n",
    "    sleep(1)  # só para dar efeito visual da barra\n",
    "\n",
    "\n",
    "def bissecao(f, a, b, tol=1e-6, max_iter=100, verbose=True, return_history=False):\n",
    "    \"\"\"\n",
    "    Método da Bisseção para resolver f(x) = 0 em [a, b].\n",
    "\n",
    "    Parâmetros:\n",
    "        f               -> função contínua\n",
    "        a, b            -> extremos do intervalo inicial\n",
    "        tol             -> tolerância (critério de parada)\n",
    "        max_iter        -> número máximo de iterações \n",
    "        verbose         -> se True, imprime o andamento\n",
    "        return_history  -> se True, devolve também uma lista com o histórico\n",
    "\n",
    "    Retorna:\n",
    "        raiz            -> aproximação da raiz\n",
    "        (raiz, hist)    -> se return_history=True\n",
    "    \"\"\"\n",
    "\n",
    "    # Histórico para estudo/depuração\n",
    "    history = []\n",
    "\n",
    "    # Casos de borda: já começamos “em cima” da raiz em a ou b?\n",
    "    fa = f(a)\n",
    "    fb = f(b)\n",
    "    if abs(fa) < tol:\n",
    "        return (a, history) if return_history else a\n",
    "    if abs(fb) < tol:\n",
    "        return (b, history) if return_history else b\n",
    "\n",
    "    # Pré-condição do método: sinais opostos nos extremos\n",
    "    if fa * fb > 0:\n",
    "        raise ValueError(\"Não há garantia de raiz: f(a) e f(b) têm o mesmo sinal.\")\n",
    "\n",
    "    # Loop principal: a cada passo reduzimos o intervalo pela metade\n",
    "    for k in range(1, max_iter + 1):\n",
    "        x = (a + b) / 2.0       # ponto médio\n",
    "        fx = f(x)\n",
    "        \n",
    "\n",
    "        # Guarda a iteração (k, a, b, x, f(x)) para análise posterior\n",
    "        history.append((k, a, b, x, fx))\n",
    "\n",
    "        # Mostra o andamento, se desejado\n",
    "        if verbose:\n",
    "            print(f\"Iter {k:>3}: a={a:.6f}, b={b:.6f}, x={x:.6f}, f(x)={fx:.6e}\")\n",
    "\n",
    "        # Critérios de parada: valor pequeno da função OU intervalo pequeno\n",
    "        if abs(fx) < tol or (b - a) / 2.0 < tol:\n",
    "            return (x, history) if return_history else x\n",
    "\n",
    "        # Escolha do subintervalo que contém a raiz (pelo sinal)\n",
    "        if fa * fx < 0:\n",
    "            # raiz em [a, x] → encurta pela direita\n",
    "            b = x\n",
    "            fb = fx\n",
    "        else:\n",
    "            # raiz em [x, b] → encurta pela esquerda\n",
    "            a = x\n",
    "            fa = fx\n",
    "\n",
    "    # Se atingir max_iter sem satisfazer os critérios de parada,\n",
    "    # devolve o meio do último intervalo como melhor aproximação.\n",
    "    return ((a + b) / 2.0, history) if return_history else (a + b) / 2.0"
   ]
  },
  {
   "cell_type": "markdown",
   "metadata": {},
   "source": [
    "## APLICAÇÃO DO ALGORITMO:"
   ]
  },
  {
   "cell_type": "markdown",
   "metadata": {},
   "source": [
    "---\n",
    "\n",
    "### Exemplo 1: f(x) = x^2 - x - 1  (raiz ≈ número áureo):"
   ]
  },
  {
   "cell_type": "code",
   "execution_count": 19,
   "metadata": {},
   "outputs": [
    {
     "name": "stdout",
     "output_type": "stream",
     "text": [
      "Iter   1: a=1.000000, b=2.000000, x=1.500000, f(x)=-2.500000e-01\n",
      "Iter   2: a=1.500000, b=2.000000, x=1.750000, f(x)=3.125000e-01\n",
      "Iter   3: a=1.500000, b=1.750000, x=1.625000, f(x)=1.562500e-02\n",
      "Iter   4: a=1.500000, b=1.625000, x=1.562500, f(x)=-1.210938e-01\n",
      "Iter   5: a=1.562500, b=1.625000, x=1.593750, f(x)=-5.371094e-02\n",
      "Iter   6: a=1.593750, b=1.625000, x=1.609375, f(x)=-1.928711e-02\n",
      "Iter   7: a=1.609375, b=1.625000, x=1.617188, f(x)=-1.892090e-03\n",
      "Iter   8: a=1.617188, b=1.625000, x=1.621094, f(x)=6.851196e-03\n",
      "Iter   9: a=1.617188, b=1.621094, x=1.619141, f(x)=2.475739e-03\n",
      "Iter  10: a=1.617188, b=1.619141, x=1.618164, f(x)=2.908707e-04\n",
      "Iter  11: a=1.617188, b=1.618164, x=1.617676, f(x)=-8.008480e-04\n",
      "Iter  12: a=1.617676, b=1.618164, x=1.617920, f(x)=-2.550483e-04\n",
      "Iter  13: a=1.617920, b=1.618164, x=1.618042, f(x)=1.789629e-05\n",
      "Iter  14: a=1.617920, b=1.618042, x=1.617981, f(x)=-1.185797e-04\n",
      "Iter  15: a=1.617981, b=1.618042, x=1.618011, f(x)=-5.034264e-05\n",
      "Iter  16: a=1.618011, b=1.618042, x=1.618027, f(x)=-1.622341e-05\n",
      "Iter  17: a=1.618027, b=1.618042, x=1.618034, f(x)=8.363859e-07\n",
      "Raiz (x^2 - x - 1) ≈ 1.6180343627929688\n"
     ]
    }
   ],
   "source": [
    "def f1(x): \n",
    "    return x*x - x - 1\n",
    "print(\"Raiz (x^2 - x - 1) ≈\", bissecao(f1, 1, 2, tol=1e-6, verbose=True))"
   ]
  },
  {
   "cell_type": "markdown",
   "metadata": {},
   "source": [
    "---\n",
    "\n",
    "### Exemplo 2: cos(x) = x  → f(x) = cos(x) - x:"
   ]
  },
  {
   "cell_type": "code",
   "execution_count": 20,
   "metadata": {},
   "outputs": [
    {
     "name": "stdout",
     "output_type": "stream",
     "text": [
      "Iter   1: a=0.000000, b=1.000000, x=0.500000, f(x)=3.775826e-01\n",
      "Iter   2: a=0.500000, b=1.000000, x=0.750000, f(x)=-1.831113e-02\n",
      "Iter   3: a=0.500000, b=0.750000, x=0.625000, f(x)=1.859631e-01\n",
      "Iter   4: a=0.625000, b=0.750000, x=0.687500, f(x)=8.533495e-02\n",
      "Iter   5: a=0.687500, b=0.750000, x=0.718750, f(x)=3.387937e-02\n",
      "Iter   6: a=0.718750, b=0.750000, x=0.734375, f(x)=7.874725e-03\n",
      "Iter   7: a=0.734375, b=0.750000, x=0.742188, f(x)=-5.195712e-03\n",
      "Iter   8: a=0.734375, b=0.742188, x=0.738281, f(x)=1.345150e-03\n",
      "Iter   9: a=0.738281, b=0.742188, x=0.740234, f(x)=-1.923873e-03\n",
      "Iter  10: a=0.738281, b=0.740234, x=0.739258, f(x)=-2.890091e-04\n",
      "Iter  11: a=0.738281, b=0.739258, x=0.738770, f(x)=5.281584e-04\n",
      "Iter  12: a=0.738770, b=0.739258, x=0.739014, f(x)=1.195967e-04\n",
      "Iter  13: a=0.739014, b=0.739258, x=0.739136, f(x)=-8.470073e-05\n",
      "Iter  14: a=0.739014, b=0.739136, x=0.739075, f(x)=1.744935e-05\n",
      "Iter  15: a=0.739075, b=0.739136, x=0.739105, f(x)=-3.362535e-05\n",
      "Iter  16: a=0.739075, b=0.739105, x=0.739090, f(x)=-8.087915e-06\n",
      "Iter  17: a=0.739075, b=0.739090, x=0.739082, f(x)=4.680737e-06\n",
      "Iter  18: a=0.739082, b=0.739090, x=0.739086, f(x)=-1.703583e-06\n",
      "Iter  19: a=0.739082, b=0.739086, x=0.739084, f(x)=1.488578e-06\n",
      "Iter  20: a=0.739084, b=0.739086, x=0.739085, f(x)=-1.075021e-07\n",
      "Iter  21: a=0.739084, b=0.739085, x=0.739085, f(x)=6.905383e-07\n",
      "Iter  22: a=0.739085, b=0.739085, x=0.739085, f(x)=2.915181e-07\n",
      "Iter  23: a=0.739085, b=0.739085, x=0.739085, f(x)=9.200802e-08\n",
      "Iter  24: a=0.739085, b=0.739085, x=0.739085, f(x)=-7.747025e-09\n",
      "Raiz (cos x = x)  ≈ 0.7390851378440857\n"
     ]
    }
   ],
   "source": [
    "def f2(x):\n",
    "    return cos(x) - x\n",
    "print(\"Raiz (cos x = x)  ≈\", bissecao(f2, 0.0, 1.0, tol=1e-8, verbose=True))"
   ]
  },
  {
   "cell_type": "markdown",
   "metadata": {},
   "source": [
    "---\n",
    "\n",
    "### Exemplo 3: e^x = 5  → f(x) = e**x - 5:"
   ]
  },
  {
   "cell_type": "code",
   "execution_count": 21,
   "metadata": {},
   "outputs": [
    {
     "name": "stdout",
     "output_type": "stream",
     "text": [
      "Iter   1: a=1.000000, b=2.000000, x=1.500000, f(x)=-5.183109e-01\n",
      "Iter   2: a=1.500000, b=2.000000, x=1.750000, f(x)=7.546027e-01\n",
      "Iter   3: a=1.500000, b=1.750000, x=1.625000, f(x)=7.841904e-02\n",
      "Iter   4: a=1.500000, b=1.625000, x=1.562500, f(x)=-2.292668e-01\n",
      "Iter   5: a=1.562500, b=1.625000, x=1.593750, f(x)=-7.782749e-02\n",
      "Iter   6: a=1.593750, b=1.625000, x=1.609375, f(x)=-3.145523e-04\n",
      "Iter   7: a=1.609375, b=1.625000, x=1.617188, f(x)=3.889847e-02\n",
      "Iter   8: a=1.609375, b=1.617188, x=1.613281, f(x)=1.925366e-02\n",
      "Iter   9: a=1.609375, b=1.613281, x=1.611328, f(x)=9.460001e-03\n",
      "Iter  10: a=1.609375, b=1.611328, x=1.610352, f(x)=4.570338e-03\n",
      "Iter  11: a=1.609375, b=1.610352, x=1.609863, f(x)=2.127296e-03\n",
      "Iter  12: a=1.609375, b=1.609863, x=1.609619, f(x)=9.062231e-04\n",
      "Iter  13: a=1.609375, b=1.609619, x=1.609497, f(x)=2.957981e-04\n",
      "Iter  14: a=1.609375, b=1.609497, x=1.609436, f(x)=-9.386380e-06\n",
      "Iter  15: a=1.609436, b=1.609497, x=1.609467, f(x)=1.432036e-04\n",
      "Iter  16: a=1.609436, b=1.609467, x=1.609451, f(x)=6.690800e-05\n",
      "Iter  17: a=1.609436, b=1.609451, x=1.609444, f(x)=2.876067e-05\n",
      "Iter  18: a=1.609436, b=1.609444, x=1.609440, f(x)=9.687106e-06\n",
      "Iter  19: a=1.609436, b=1.609440, x=1.609438, f(x)=1.503539e-07\n",
      "Iter  20: a=1.609436, b=1.609438, x=1.609437, f(x)=-4.618016e-06\n",
      "Iter  21: a=1.609437, b=1.609438, x=1.609437, f(x)=-2.233831e-06\n",
      "Iter  22: a=1.609437, b=1.609438, x=1.609438, f(x)=-1.041739e-06\n",
      "Iter  23: a=1.609438, b=1.609438, x=1.609438, f(x)=-4.456925e-07\n",
      "Iter  24: a=1.609438, b=1.609438, x=1.609438, f(x)=-1.476693e-07\n",
      "Iter  25: a=1.609438, b=1.609438, x=1.609438, f(x)=1.342300e-09\n",
      "Raiz (e^x = 5)    ≈ 1.6094379127025604\n"
     ]
    }
   ],
   "source": [
    "def f3(x):\n",
    "    return (e**x) - 5.0\n",
    "print(\"Raiz (e^x = 5)    ≈\", bissecao(f3, 1.0, 2.0, tol=1e-8, verbose=True))"
   ]
  }
 ],
 "metadata": {
  "kernelspec": {
   "display_name": "Python 3",
   "language": "python",
   "name": "python3"
  },
  "language_info": {
   "codemirror_mode": {
    "name": "ipython",
    "version": 3
   },
   "file_extension": ".py",
   "mimetype": "text/x-python",
   "name": "python",
   "nbconvert_exporter": "python",
   "pygments_lexer": "ipython3",
   "version": "3.12.3"
  },
  "orig_nbformat": 4
 },
 "nbformat": 4,
 "nbformat_minor": 2
}
